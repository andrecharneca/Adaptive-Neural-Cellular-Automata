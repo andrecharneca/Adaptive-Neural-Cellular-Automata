{
 "cells": [
  {
   "cell_type": "code",
   "execution_count": 141,
   "metadata": {},
   "outputs": [
    {
     "name": "stdout",
     "output_type": "stream",
     "text": [
      "The autoreload extension is already loaded. To reload it, use:\n",
      "  %reload_ext autoreload\n"
     ]
    }
   ],
   "source": [
    "# This notebook is for debugging general functions (from utils.py) for example.\n",
    "\n",
    "%matplotlib inline\n",
    "%load_ext autoreload\n",
    "%autoreload 2\n",
    "\n",
    "import numpy as np\n",
    "import matplotlib.pyplot as plt\n",
    "from matplotlib.animation import FuncAnimation, ArtistAnimation\n",
    "from IPython.display import HTML\n",
    "import torch\n",
    "import torch.nn as nn\n",
    "import torch.optim as optim\n",
    "import torch.nn.functional as F\n",
    "from tqdm import tqdm\n",
    "\n",
    "from IPython.display import clear_output\n",
    "\n",
    "from lib.CAModel import CAModel\n",
    "from lib.PonderCAModel import PonderCAModel\n",
    "from lib.AdaptiveFireRateCAModel import AdaptiveFireRateCAModel\n",
    "from lib.EnergyCAModel import EnergyCAModel\n",
    "\n",
    "from lib.utils_vis import SamplePool, to_alpha, to_rgb, get_living_mask, make_seed, make_circle_masks, damage_batch\n",
    "from lib.utils import *\n",
    "from lib.losses import ReconstructionLoss, RegularizationLoss, ReconstructionLoss_AdaptFireRate, RegularizationLoss_AdaptFireRate"
   ]
  },
  {
   "cell_type": "code",
   "execution_count": 142,
   "metadata": {},
   "outputs": [
    {
     "data": {
      "image/png": "[encoded data removed]",
      "text/plain": [
       "<Figure size 400x400 with 1 Axes>"
      ]
     },
     "metadata": {},
     "output_type": "display_data"
    }
   ],
   "source": [
    "# params\n",
    "device = torch.device(\"cpu\")\n",
    "\n",
    "CHANNEL_N = 16        # Number of CA state channels\n",
    "TARGET_PADDING = 16   # Number of pixels used to pad the target image border\n",
    "TARGET_SIZE = 40\n",
    "\n",
    "lr = 2e-3\n",
    "lr_gamma = 0.9999 ###currently not used\n",
    "betas = (0.5, 0.5)\n",
    "n_epoch = 8000\n",
    "\n",
    "BATCH_SIZE = 8\n",
    "POOL_SIZE = 1024\n",
    "CELL_FIRE_RATE = 0.5\n",
    "\n",
    "TARGET_EMOJI = 0 #@param \"🦎\"\n",
    "EMOJI_NAME = \"Lizard\"\n",
    "EXPERIMENT_TYPE = \"Growing\"\n",
    "EXPERIMENT_MAP = {\"Growing\":0, \"Persistent\":1, \"Regenerating\":2}\n",
    "EXPERIMENT_N = EXPERIMENT_MAP[EXPERIMENT_TYPE]\n",
    "\n",
    "USE_PATTERN_POOL = [0, 1, 1][EXPERIMENT_N]\n",
    "DAMAGE_N = [0, 0, 3][EXPERIMENT_N]  # Number of patterns to damage in a batch\n",
    "\n",
    "\n",
    "## PonderNet and AdaptiveFireRateCA Params ##\n",
    "IMG_SIZE = 72       # final padded image side length\n",
    "LAMBDA_P = 1/3      # reasonable 1/expected_steps (interpretation for PonderCA)\n",
    "                     \n",
    "MAX_STEPS = 100\n",
    "BETA = 0.01         # regularization param\n",
    "\n",
    "## EnergyCA Params ##\n",
    "BETA_ENERGY = 1e-6\n",
    "MIN_FIRERATE = 0.01\n",
    "MAX_FIRERATE = 0.8\n",
    "\n",
    "\n",
    "target_img = load_emoji(TARGET_EMOJI)\n",
    "plt.figure(figsize=(4,4))\n",
    "plt.imshow(to_rgb(target_img))\n",
    "plt.show()\n"
   ]
  },
  {
   "cell_type": "code",
   "execution_count": 143,
   "metadata": {},
   "outputs": [
    {
     "name": "stdout",
     "output_type": "stream",
     "text": [
      "pad_target.shape = torch.Size([1, 72, 72, 4])\n"
     ]
    }
   ],
   "source": [
    "# Create pad_target\n",
    "p = TARGET_PADDING\n",
    "pad_target = np.pad(target_img, [(p, p), (p, p), (0, 0)])\n",
    "h, w = pad_target.shape[:2]\n",
    "pad_target = np.expand_dims(pad_target, axis=0)\n",
    "pad_target = torch.from_numpy(pad_target.astype(np.float32))\n",
    "debug(\"pad_target.shape\")\n"
   ]
  },
  {
   "cell_type": "code",
   "execution_count": 144,
   "metadata": {},
   "outputs": [
    {
     "name": "stdout",
     "output_type": "stream",
     "text": [
      "batch.shape = torch.Size([8, 72, 72, 16])\n"
     ]
    }
   ],
   "source": [
    "# Create a batch by expanding dim=0 to BATCH_SIZE\n",
    "batch = pad_target.repeat(BATCH_SIZE, 1, 1, 1)\n",
    "\n",
    "# expand the channels in the last dimension to CHANNEL_N\n",
    "batch = batch.repeat(1, 1, 1, 4)\n",
    "\n",
    "debug(\"batch.shape\")"
   ]
  },
  {
   "cell_type": "markdown",
   "metadata": {},
   "source": [
    "## Debugging utils_vis.py"
   ]
  },
  {
   "cell_type": "code",
   "execution_count": 150,
   "metadata": {},
   "outputs": [
    {
     "data": {
      "image/png": "[encoded data removed]",
      "text/plain": [
       "<Figure size 400x400 with 1 Axes>"
      ]
     },
     "metadata": {},
     "output_type": "display_data"
    }
   ],
   "source": [
    "# Test functionality of damage_batch\n",
    "batch_damaged = damage_batch(batch, device, img_size = IMG_SIZE, damage_location=\"center\" , damaged_in_batch = 1)\n",
    "plt.figure(figsize=(4,4))\n",
    "plt.imshow(to_rgb(batch_damaged[0]))\n",
    "plt.show()\n"
   ]
  },
  {
   "cell_type": "code",
   "execution_count": null,
   "metadata": {},
   "outputs": [],
   "source": []
  }
 ],
 "metadata": {
  "kernelspec": {
   "display_name": "Python 3.9.13 ('nca')",
   "language": "python",
   "name": "python3"
  },
  "language_info": {
   "codemirror_mode": {
    "name": "ipython",
    "version": 3
   },
   "file_extension": ".py",
   "mimetype": "text/x-python",
   "name": "python",
   "nbconvert_exporter": "python",
   "pygments_lexer": "ipython3",
   "version": "3.9.13"
  },
  "orig_nbformat": 4,
  "vscode": {
   "interpreter": {
    "hash": "172ff0b9122cc15691e778b34e3fb8532ef2549d91ff0fc3e91608639692462b"
   }
  }
 },
 "nbformat": 4,
 "nbformat_minor": 2
}
