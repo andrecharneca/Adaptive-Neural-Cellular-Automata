{
 "cells": [
  {
   "cell_type": "code",
   "execution_count": 22,
   "metadata": {},
   "outputs": [
    {
     "name": "stdout",
     "output_type": "stream",
     "text": [
      "The autoreload extension is already loaded. To reload it, use:\n",
      "  %reload_ext autoreload\n"
     ]
    }
   ],
   "source": [
    "%matplotlib inline\n",
    "%load_ext autoreload\n",
    "%autoreload 2\n",
    "\n",
    "import numpy as np\n",
    "import matplotlib.pyplot as plt\n",
    "import torch\n",
    "import torch.optim as optim\n",
    "import os\n",
    "import pandas as pd\n",
    "import torch.nn.functional as F\n",
    "\n",
    "from lib.utils import get_free_gpu, load_lizard, debug\n",
    "from lib.utils_vis import make_seed, to_rgb\n",
    "from lib.EnergyCAModel import EnergyCAModel\n",
    "from lib.CAModel import CAModel\n",
    "from lib.utils import animate_steps\n",
    "model_dir = 'models/'"
   ]
  },
  {
   "attachments": {},
   "cell_type": "markdown",
   "metadata": {},
   "source": [
    "# Initialization\n"
   ]
  },
  {
   "cell_type": "code",
   "execution_count": 4,
   "metadata": {},
   "outputs": [],
   "source": []
  },
  {
   "cell_type": "code",
   "execution_count": 23,
   "metadata": {},
   "outputs": [
    {
     "name": "stdout",
     "output_type": "stream",
     "text": [
      "Getting free GPU...\n",
      "| ID | GPU | MEM |\n",
      "------------------\n",
      "|  0 | 65% | 65% |\n",
      "|  1 | 21% | 91% |\n",
      "|  2 | 57% | 91% |\n",
      "|  3 | 78% | 92% |\n",
      "|  4 |  0% |  0% |\n",
      "Using GPU:  4\n"
     ]
    },
    {
     "data": {
      "text/plain": [
       "<matplotlib.image.AxesImage at 0x7fe0bbd3a0a0>"
      ]
     },
     "execution_count": 23,
     "metadata": {},
     "output_type": "execute_result"
    },
    {
     "data": {
      "image/png": "[encoded data removed]",
      "text/plain": [
       "<Figure size 640x480 with 1 Axes>"
      ]
     },
     "metadata": {},
     "output_type": "display_data"
    }
   ],
   "source": [
    "\n",
    "torch.backends.cudnn.benchmark = True # Speeds up stuff\n",
    "torch.backends.cudnn.enabled = True\n",
    "\n",
    "## General Parameters ##\n",
    "global_params = {\n",
    "    'CHANNEL_N': 16,\n",
    "    'TARGET_PADDING': 16,\n",
    "    'TARGET_SIZE': 40,\n",
    "    'IMG_SIZE': 72,\n",
    "    'MIN_STEPS': 64,\n",
    "    'MAX_STEPS': 128,\n",
    "}\n",
    "\n",
    "## General Training Parameters ##\n",
    "# choose cuda device with the least amount of current memory usage\n",
    "training_params = {\n",
    "    'lr': 2e-3,\n",
    "    'lr_gamma': 0.9999,\n",
    "    'betas': (0.5, 0.5),\n",
    "    'n_epoch': 10000,\n",
    "    'batch_size': 8,\n",
    "    'grad_clip': 1.0,\n",
    "    'device': torch.device('cuda:{}'.format(get_free_gpu()) if torch.cuda.is_available() else 'cpu'),\n",
    "    'history_save_dir': 'histories/',\n",
    "    'model_save_dir': 'models/gumbel/', ###\n",
    "}\n",
    "\n",
    "ca_params = {\"CELL_FIRE_RATE\": 0.5}\n",
    "number_of_batches = 10#10\n",
    "\n",
    "# Load target emoji\n",
    "target_img = load_lizard('data/lizard_clean.png')\n",
    "p = global_params['TARGET_PADDING']\n",
    "pad_target = np.pad(target_img, [(p, p), (p, p), (0, 0)])\n",
    "h, w = pad_target.shape[:2]\n",
    "pad_target = np.expand_dims(pad_target, axis=0)\n",
    "pad_target = torch.from_numpy(pad_target.astype(np.float32))\n",
    "\n",
    "# Load body parts emoji\n",
    "parts_img = load_lizard('data/lizard_parts.png')\n",
    "pad_parts = np.pad(parts_img, [(p, p), (p, p), (0, 0)])\n",
    "\n",
    "# Create initial state\n",
    "seed = make_seed((h, w), global_params['CHANNEL_N'])\n",
    "x0 = np.repeat(seed[None, ...], training_params[\"batch_size\"], 0)\n",
    "x0 = torch.from_numpy(x0.astype(np.float32)).to(training_params['device'])\n",
    "\n",
    "plt.imshow(to_rgb(pad_target.detach().cpu()[0]))\n",
    "plt.imshow(pad_parts)"
   ]
  },
  {
   "cell_type": "code",
   "execution_count": 41,
   "metadata": {},
   "outputs": [
    {
     "data": {
      "text/plain": [
       "<matplotlib.image.AxesImage at 0x7fe0ba717880>"
      ]
     },
     "execution_count": 41,
     "metadata": {},
     "output_type": "execute_result"
    },
    {
     "data": {
      "image/png": "[encoded data removed]",
      "text/plain": [
       "<Figure size 640x480 with 1 Axes>"
      ]
     },
     "metadata": {},
     "output_type": "display_data"
    }
   ],
   "source": [
    "plt.imshow((pad_parts[:,:,3]==1) & (pad_parts[:,:,0]==0) & (pad_parts[:,:,1]==0) & (pad_parts[:,:,2]==0))"
   ]
  },
  {
   "cell_type": "code",
   "execution_count": null,
   "metadata": {},
   "outputs": [],
   "source": []
  }
 ],
 "metadata": {
  "kernelspec": {
   "display_name": "nca",
   "language": "python",
   "name": "python3"
  },
  "language_info": {
   "codemirror_mode": {
    "name": "ipython",
    "version": 3
   },
   "file_extension": ".py",
   "mimetype": "text/x-python",
   "name": "python",
   "nbconvert_exporter": "python",
   "pygments_lexer": "ipython3",
   "version": "3.9.13 (main, Oct 13 2022, 21:15:33) \n[GCC 11.2.0]"
  },
  "orig_nbformat": 4,
  "vscode": {
   "interpreter": {
    "hash": "172ff0b9122cc15691e778b34e3fb8532ef2549d91ff0fc3e91608639692462b"
   }
  }
 },
 "nbformat": 4,
 "nbformat_minor": 2
}
